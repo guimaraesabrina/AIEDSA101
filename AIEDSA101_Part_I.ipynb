{
  "nbformat": 4,
  "nbformat_minor": 0,
  "metadata": {
    "colab": {
      "provenance": [],
      "authorship_tag": "ABX9TyMHx7BOUPDX0nm0xDkAhH5i",
      "include_colab_link": true
    },
    "kernelspec": {
      "name": "python3",
      "display_name": "Python 3"
    },
    "language_info": {
      "name": "python"
    }
  },
  "cells": [
    {
      "cell_type": "markdown",
      "metadata": {
        "id": "view-in-github",
        "colab_type": "text"
      },
      "source": [
        "<a href=\"https://colab.research.google.com/github/guimaraesabrina/AIEDSA101/blob/main/AIEDSA101_Part_I.ipynb\" target=\"_parent\"><img src=\"https://colab.research.google.com/assets/colab-badge.svg\" alt=\"Open In Colab\"/></a>"
      ]
    },
    {
      "cell_type": "markdown",
      "source": [
        "# AIEDSA101"
      ],
      "metadata": {
        "id": "m_cgiqSU7F3n"
      }
    },
    {
      "cell_type": "code",
      "execution_count": 14,
      "metadata": {
        "id": "T8dRwABP4K10"
      },
      "outputs": [],
      "source": [
        "import pandas as pd\n",
        "import numpy as np\n",
        "import seaborn as sns\n",
        "import matplotlib.pyplot as plt"
      ]
    },
    {
      "cell_type": "markdown",
      "source": [
        "**Data Manipulation**\n",
        "*(pandas & numpy concepts):*\n",
        "\n",
        "- **`nunique`** returns the number of unique values in a Series or across DataFrame columns. It's useful to understand the diversity or cardinality of a variable.\n",
        "\n",
        "- **`isin`** checks whether each element in a Series or DataFrame is contained in a provided list of values. It’s often used for filtering data based on specific conditions.\n",
        "\n",
        "- **`isna`** identifies missing (NaN) values within a Series or DataFrame and returns a Boolean mask. It's commonly used for detecting and managing null entries.\n",
        "\n",
        "- **`duplicated()`** identifies rows that are repeated in a DataFrame. It returns a Boolean series indicating which rows are duplicates of earlier rows.\n",
        "\n",
        "---\n",
        "\n",
        "**Data Visualization** <br>\n",
        "**Statistical Analysis**\n",
        "\n",
        "- **`heatmap`** is a type of plot (typically used with seaborn) that displays values in a matrix using color gradients. It’s useful for visualizing correlation matrices or distributions.\n",
        "\n",
        "- **Sample variance** measures how spread out the values in a sample are from their mean. It is a key concept in statistics to understand variability.\n",
        "\n",
        "- **`hue` (plot)** is a parameter in seaborn plots that adds a categorical separation by color. It allows you to compare subgroups within your data visually.\n",
        "\n",
        "- **`histplot`** is used to plot histograms — it shows the distribution of a single variable by grouping values into bins and plotting the frequency of each.\n",
        "\n",
        "- **Skew** refers to the asymmetry of a distribution. A positive skew has a longer right tail; a negative skew has a longer left tail. It helps in understanding how your data deviates from a normal distribution.\n",
        "\n",
        "- **`np.random.seed(42)`** sets a fixed starting point for NumPy's random number generator. It ensures that results involving randomness are reproducible.\n",
        "\n",
        "- **`kde` (Kernel Density Estimation)** plots an estimate of the probability density function of a continuous variable, giving a smooth curve over a histogram-like plot.\n",
        "\n",
        "- **`corr_matrix`** (correlation matrix) is a table showing correlation coefficients between variables. It helps assess the strength and direction of linear relationships.\n",
        "\n",
        "- **Pivot tables** rearrange and summarize data for easy analysis. With rows and columns representing different variables, they’re useful for grouping and aggregating data quickly.\n",
        "\n",
        "---\n",
        "\n",
        "**Machine Learning concepts** *(mostly from scikit-learn)*\n",
        "\n",
        "- **`KFold`** is a cross-validation technique where the dataset is split into _k_ equal-sized parts (folds). The model is trained _k_ times, each time using a different fold as the validation set and the remaining as training data.\n",
        "\n",
        "- **`MinMaxScaler`** scales features to a specific range (usually 0 to 1). It preserves the shape of the distribution but shifts and compresses the values so they're all within the chosen bounds.\n",
        "\n",
        "- **Cross-validation** is a model evaluation method that splits the dataset into multiple training and validation sets to ensure that the model performs well across different subsets and isn’t overfitting.\n"
      ],
      "metadata": {
        "id": "xABhmtajFqAS"
      }
    },
    {
      "cell_type": "code",
      "source": [
        "# list comprehension\n",
        "my_list = [15, 18, 17, 12, 11, 7, 8]\n",
        "filterd_list = [num for num in my_list if num >= 15]\n",
        "print(filterd_list)"
      ],
      "metadata": {
        "colab": {
          "base_uri": "https://localhost:8080/"
        },
        "id": "-MUkVlx84bMB",
        "outputId": "16950b1e-1514-4160-ce83-dd23b4b3d3ed"
      },
      "execution_count": 2,
      "outputs": [
        {
          "output_type": "stream",
          "name": "stdout",
          "text": [
            "[15, 18, 17]\n"
          ]
        }
      ]
    },
    {
      "cell_type": "code",
      "source": [
        "# groupby\n",
        "data = {'Country': ['USA', 'Canada', 'UK', 'USA', 'Canada', 'UK'],\n",
        "        'Product': ['Apparel', 'Apparel', 'Apparel', 'Footwear', 'Footwear', 'Footwear'],\n",
        "        'Sales': [120000, 90000, 75000, 150000, 80000, 95000]}\n",
        "\n",
        "sales = pd.DataFrame(data)\n",
        "\n",
        "grouped_sales = sales.groupby([\"Country\", \"Product\"])[[\"Sales\"]].mean()\n",
        "grouped_sales"
      ],
      "metadata": {
        "colab": {
          "base_uri": "https://localhost:8080/",
          "height": 269
        },
        "id": "9UhkkrNR4hYr",
        "outputId": "6fba48fc-1df5-4686-b5dc-c2c238d57b89"
      },
      "execution_count": 3,
      "outputs": [
        {
          "output_type": "execute_result",
          "data": {
            "text/plain": [
              "                     Sales\n",
              "Country Product           \n",
              "Canada  Apparel    90000.0\n",
              "        Footwear   80000.0\n",
              "UK      Apparel    75000.0\n",
              "        Footwear   95000.0\n",
              "USA     Apparel   120000.0\n",
              "        Footwear  150000.0"
            ],
            "text/html": [
              "\n",
              "  <div id=\"df-99f59ca3-6bd3-4f8c-8593-13a43690c4f5\" class=\"colab-df-container\">\n",
              "    <div>\n",
              "<style scoped>\n",
              "    .dataframe tbody tr th:only-of-type {\n",
              "        vertical-align: middle;\n",
              "    }\n",
              "\n",
              "    .dataframe tbody tr th {\n",
              "        vertical-align: top;\n",
              "    }\n",
              "\n",
              "    .dataframe thead th {\n",
              "        text-align: right;\n",
              "    }\n",
              "</style>\n",
              "<table border=\"1\" class=\"dataframe\">\n",
              "  <thead>\n",
              "    <tr style=\"text-align: right;\">\n",
              "      <th></th>\n",
              "      <th></th>\n",
              "      <th>Sales</th>\n",
              "    </tr>\n",
              "    <tr>\n",
              "      <th>Country</th>\n",
              "      <th>Product</th>\n",
              "      <th></th>\n",
              "    </tr>\n",
              "  </thead>\n",
              "  <tbody>\n",
              "    <tr>\n",
              "      <th rowspan=\"2\" valign=\"top\">Canada</th>\n",
              "      <th>Apparel</th>\n",
              "      <td>90000.0</td>\n",
              "    </tr>\n",
              "    <tr>\n",
              "      <th>Footwear</th>\n",
              "      <td>80000.0</td>\n",
              "    </tr>\n",
              "    <tr>\n",
              "      <th rowspan=\"2\" valign=\"top\">UK</th>\n",
              "      <th>Apparel</th>\n",
              "      <td>75000.0</td>\n",
              "    </tr>\n",
              "    <tr>\n",
              "      <th>Footwear</th>\n",
              "      <td>95000.0</td>\n",
              "    </tr>\n",
              "    <tr>\n",
              "      <th rowspan=\"2\" valign=\"top\">USA</th>\n",
              "      <th>Apparel</th>\n",
              "      <td>120000.0</td>\n",
              "    </tr>\n",
              "    <tr>\n",
              "      <th>Footwear</th>\n",
              "      <td>150000.0</td>\n",
              "    </tr>\n",
              "  </tbody>\n",
              "</table>\n",
              "</div>\n",
              "    <div class=\"colab-df-buttons\">\n",
              "\n",
              "  <div class=\"colab-df-container\">\n",
              "    <button class=\"colab-df-convert\" onclick=\"convertToInteractive('df-99f59ca3-6bd3-4f8c-8593-13a43690c4f5')\"\n",
              "            title=\"Convert this dataframe to an interactive table.\"\n",
              "            style=\"display:none;\">\n",
              "\n",
              "  <svg xmlns=\"http://www.w3.org/2000/svg\" height=\"24px\" viewBox=\"0 -960 960 960\">\n",
              "    <path d=\"M120-120v-720h720v720H120Zm60-500h600v-160H180v160Zm220 220h160v-160H400v160Zm0 220h160v-160H400v160ZM180-400h160v-160H180v160Zm440 0h160v-160H620v160ZM180-180h160v-160H180v160Zm440 0h160v-160H620v160Z\"/>\n",
              "  </svg>\n",
              "    </button>\n",
              "\n",
              "  <style>\n",
              "    .colab-df-container {\n",
              "      display:flex;\n",
              "      gap: 12px;\n",
              "    }\n",
              "\n",
              "    .colab-df-convert {\n",
              "      background-color: #E8F0FE;\n",
              "      border: none;\n",
              "      border-radius: 50%;\n",
              "      cursor: pointer;\n",
              "      display: none;\n",
              "      fill: #1967D2;\n",
              "      height: 32px;\n",
              "      padding: 0 0 0 0;\n",
              "      width: 32px;\n",
              "    }\n",
              "\n",
              "    .colab-df-convert:hover {\n",
              "      background-color: #E2EBFA;\n",
              "      box-shadow: 0px 1px 2px rgba(60, 64, 67, 0.3), 0px 1px 3px 1px rgba(60, 64, 67, 0.15);\n",
              "      fill: #174EA6;\n",
              "    }\n",
              "\n",
              "    .colab-df-buttons div {\n",
              "      margin-bottom: 4px;\n",
              "    }\n",
              "\n",
              "    [theme=dark] .colab-df-convert {\n",
              "      background-color: #3B4455;\n",
              "      fill: #D2E3FC;\n",
              "    }\n",
              "\n",
              "    [theme=dark] .colab-df-convert:hover {\n",
              "      background-color: #434B5C;\n",
              "      box-shadow: 0px 1px 3px 1px rgba(0, 0, 0, 0.15);\n",
              "      filter: drop-shadow(0px 1px 2px rgba(0, 0, 0, 0.3));\n",
              "      fill: #FFFFFF;\n",
              "    }\n",
              "  </style>\n",
              "\n",
              "    <script>\n",
              "      const buttonEl =\n",
              "        document.querySelector('#df-99f59ca3-6bd3-4f8c-8593-13a43690c4f5 button.colab-df-convert');\n",
              "      buttonEl.style.display =\n",
              "        google.colab.kernel.accessAllowed ? 'block' : 'none';\n",
              "\n",
              "      async function convertToInteractive(key) {\n",
              "        const element = document.querySelector('#df-99f59ca3-6bd3-4f8c-8593-13a43690c4f5');\n",
              "        const dataTable =\n",
              "          await google.colab.kernel.invokeFunction('convertToInteractive',\n",
              "                                                    [key], {});\n",
              "        if (!dataTable) return;\n",
              "\n",
              "        const docLinkHtml = 'Like what you see? Visit the ' +\n",
              "          '<a target=\"_blank\" href=https://colab.research.google.com/notebooks/data_table.ipynb>data table notebook</a>'\n",
              "          + ' to learn more about interactive tables.';\n",
              "        element.innerHTML = '';\n",
              "        dataTable['output_type'] = 'display_data';\n",
              "        await google.colab.output.renderOutput(dataTable, element);\n",
              "        const docLink = document.createElement('div');\n",
              "        docLink.innerHTML = docLinkHtml;\n",
              "        element.appendChild(docLink);\n",
              "      }\n",
              "    </script>\n",
              "  </div>\n",
              "\n",
              "\n",
              "    <div id=\"df-c25d921f-b19d-4387-ae3d-0c43913da3c1\">\n",
              "      <button class=\"colab-df-quickchart\" onclick=\"quickchart('df-c25d921f-b19d-4387-ae3d-0c43913da3c1')\"\n",
              "                title=\"Suggest charts\"\n",
              "                style=\"display:none;\">\n",
              "\n",
              "<svg xmlns=\"http://www.w3.org/2000/svg\" height=\"24px\"viewBox=\"0 0 24 24\"\n",
              "     width=\"24px\">\n",
              "    <g>\n",
              "        <path d=\"M19 3H5c-1.1 0-2 .9-2 2v14c0 1.1.9 2 2 2h14c1.1 0 2-.9 2-2V5c0-1.1-.9-2-2-2zM9 17H7v-7h2v7zm4 0h-2V7h2v10zm4 0h-2v-4h2v4z\"/>\n",
              "    </g>\n",
              "</svg>\n",
              "      </button>\n",
              "\n",
              "<style>\n",
              "  .colab-df-quickchart {\n",
              "      --bg-color: #E8F0FE;\n",
              "      --fill-color: #1967D2;\n",
              "      --hover-bg-color: #E2EBFA;\n",
              "      --hover-fill-color: #174EA6;\n",
              "      --disabled-fill-color: #AAA;\n",
              "      --disabled-bg-color: #DDD;\n",
              "  }\n",
              "\n",
              "  [theme=dark] .colab-df-quickchart {\n",
              "      --bg-color: #3B4455;\n",
              "      --fill-color: #D2E3FC;\n",
              "      --hover-bg-color: #434B5C;\n",
              "      --hover-fill-color: #FFFFFF;\n",
              "      --disabled-bg-color: #3B4455;\n",
              "      --disabled-fill-color: #666;\n",
              "  }\n",
              "\n",
              "  .colab-df-quickchart {\n",
              "    background-color: var(--bg-color);\n",
              "    border: none;\n",
              "    border-radius: 50%;\n",
              "    cursor: pointer;\n",
              "    display: none;\n",
              "    fill: var(--fill-color);\n",
              "    height: 32px;\n",
              "    padding: 0;\n",
              "    width: 32px;\n",
              "  }\n",
              "\n",
              "  .colab-df-quickchart:hover {\n",
              "    background-color: var(--hover-bg-color);\n",
              "    box-shadow: 0 1px 2px rgba(60, 64, 67, 0.3), 0 1px 3px 1px rgba(60, 64, 67, 0.15);\n",
              "    fill: var(--button-hover-fill-color);\n",
              "  }\n",
              "\n",
              "  .colab-df-quickchart-complete:disabled,\n",
              "  .colab-df-quickchart-complete:disabled:hover {\n",
              "    background-color: var(--disabled-bg-color);\n",
              "    fill: var(--disabled-fill-color);\n",
              "    box-shadow: none;\n",
              "  }\n",
              "\n",
              "  .colab-df-spinner {\n",
              "    border: 2px solid var(--fill-color);\n",
              "    border-color: transparent;\n",
              "    border-bottom-color: var(--fill-color);\n",
              "    animation:\n",
              "      spin 1s steps(1) infinite;\n",
              "  }\n",
              "\n",
              "  @keyframes spin {\n",
              "    0% {\n",
              "      border-color: transparent;\n",
              "      border-bottom-color: var(--fill-color);\n",
              "      border-left-color: var(--fill-color);\n",
              "    }\n",
              "    20% {\n",
              "      border-color: transparent;\n",
              "      border-left-color: var(--fill-color);\n",
              "      border-top-color: var(--fill-color);\n",
              "    }\n",
              "    30% {\n",
              "      border-color: transparent;\n",
              "      border-left-color: var(--fill-color);\n",
              "      border-top-color: var(--fill-color);\n",
              "      border-right-color: var(--fill-color);\n",
              "    }\n",
              "    40% {\n",
              "      border-color: transparent;\n",
              "      border-right-color: var(--fill-color);\n",
              "      border-top-color: var(--fill-color);\n",
              "    }\n",
              "    60% {\n",
              "      border-color: transparent;\n",
              "      border-right-color: var(--fill-color);\n",
              "    }\n",
              "    80% {\n",
              "      border-color: transparent;\n",
              "      border-right-color: var(--fill-color);\n",
              "      border-bottom-color: var(--fill-color);\n",
              "    }\n",
              "    90% {\n",
              "      border-color: transparent;\n",
              "      border-bottom-color: var(--fill-color);\n",
              "    }\n",
              "  }\n",
              "</style>\n",
              "\n",
              "      <script>\n",
              "        async function quickchart(key) {\n",
              "          const quickchartButtonEl =\n",
              "            document.querySelector('#' + key + ' button');\n",
              "          quickchartButtonEl.disabled = true;  // To prevent multiple clicks.\n",
              "          quickchartButtonEl.classList.add('colab-df-spinner');\n",
              "          try {\n",
              "            const charts = await google.colab.kernel.invokeFunction(\n",
              "                'suggestCharts', [key], {});\n",
              "          } catch (error) {\n",
              "            console.error('Error during call to suggestCharts:', error);\n",
              "          }\n",
              "          quickchartButtonEl.classList.remove('colab-df-spinner');\n",
              "          quickchartButtonEl.classList.add('colab-df-quickchart-complete');\n",
              "        }\n",
              "        (() => {\n",
              "          let quickchartButtonEl =\n",
              "            document.querySelector('#df-c25d921f-b19d-4387-ae3d-0c43913da3c1 button');\n",
              "          quickchartButtonEl.style.display =\n",
              "            google.colab.kernel.accessAllowed ? 'block' : 'none';\n",
              "        })();\n",
              "      </script>\n",
              "    </div>\n",
              "\n",
              "  <div id=\"id_1dbddc36-7c41-44fd-948d-e6d5b4252f6d\">\n",
              "    <style>\n",
              "      .colab-df-generate {\n",
              "        background-color: #E8F0FE;\n",
              "        border: none;\n",
              "        border-radius: 50%;\n",
              "        cursor: pointer;\n",
              "        display: none;\n",
              "        fill: #1967D2;\n",
              "        height: 32px;\n",
              "        padding: 0 0 0 0;\n",
              "        width: 32px;\n",
              "      }\n",
              "\n",
              "      .colab-df-generate:hover {\n",
              "        background-color: #E2EBFA;\n",
              "        box-shadow: 0px 1px 2px rgba(60, 64, 67, 0.3), 0px 1px 3px 1px rgba(60, 64, 67, 0.15);\n",
              "        fill: #174EA6;\n",
              "      }\n",
              "\n",
              "      [theme=dark] .colab-df-generate {\n",
              "        background-color: #3B4455;\n",
              "        fill: #D2E3FC;\n",
              "      }\n",
              "\n",
              "      [theme=dark] .colab-df-generate:hover {\n",
              "        background-color: #434B5C;\n",
              "        box-shadow: 0px 1px 3px 1px rgba(0, 0, 0, 0.15);\n",
              "        filter: drop-shadow(0px 1px 2px rgba(0, 0, 0, 0.3));\n",
              "        fill: #FFFFFF;\n",
              "      }\n",
              "    </style>\n",
              "    <button class=\"colab-df-generate\" onclick=\"generateWithVariable('grouped_sales')\"\n",
              "            title=\"Generate code using this dataframe.\"\n",
              "            style=\"display:none;\">\n",
              "\n",
              "  <svg xmlns=\"http://www.w3.org/2000/svg\" height=\"24px\"viewBox=\"0 0 24 24\"\n",
              "       width=\"24px\">\n",
              "    <path d=\"M7,19H8.4L18.45,9,17,7.55,7,17.6ZM5,21V16.75L18.45,3.32a2,2,0,0,1,2.83,0l1.4,1.43a1.91,1.91,0,0,1,.58,1.4,1.91,1.91,0,0,1-.58,1.4L9.25,21ZM18.45,9,17,7.55Zm-12,3A5.31,5.31,0,0,0,4.9,8.1,5.31,5.31,0,0,0,1,6.5,5.31,5.31,0,0,0,4.9,4.9,5.31,5.31,0,0,0,6.5,1,5.31,5.31,0,0,0,8.1,4.9,5.31,5.31,0,0,0,12,6.5,5.46,5.46,0,0,0,6.5,12Z\"/>\n",
              "  </svg>\n",
              "    </button>\n",
              "    <script>\n",
              "      (() => {\n",
              "      const buttonEl =\n",
              "        document.querySelector('#id_1dbddc36-7c41-44fd-948d-e6d5b4252f6d button.colab-df-generate');\n",
              "      buttonEl.style.display =\n",
              "        google.colab.kernel.accessAllowed ? 'block' : 'none';\n",
              "\n",
              "      buttonEl.onclick = () => {\n",
              "        google.colab.notebook.generateWithVariable('grouped_sales');\n",
              "      }\n",
              "      })();\n",
              "    </script>\n",
              "  </div>\n",
              "\n",
              "    </div>\n",
              "  </div>\n"
            ],
            "application/vnd.google.colaboratory.intrinsic+json": {
              "type": "dataframe",
              "variable_name": "grouped_sales",
              "summary": "{\n  \"name\": \"grouped_sales\",\n  \"rows\": 6,\n  \"fields\": [\n    {\n      \"column\": \"Sales\",\n      \"properties\": {\n        \"dtype\": \"number\",\n        \"std\": 28401.877872187724,\n        \"min\": 75000.0,\n        \"max\": 150000.0,\n        \"num_unique_values\": 6,\n        \"samples\": [\n          90000.0,\n          80000.0,\n          150000.0\n        ],\n        \"semantic_type\": \"\",\n        \"description\": \"\"\n      }\n    }\n  ]\n}"
            }
          },
          "metadata": {},
          "execution_count": 3
        }
      ]
    },
    {
      "cell_type": "code",
      "source": [
        "# survey mock dataset\n",
        "# notna\n",
        "data = {'student_id': [1, 2, 3, 4, 5, 6, 7, 8, 9, 10],\n",
        "        'gender': ['M', 'F', 'M', 'F', 'M', 'M', np.nan, 'F', 'M', 'F'],\n",
        "        'school': ['A', 'B', 'A', 'B', 'A', 'A', 'B', np.nan, 'A', 'B'],\n",
        "        'parental_educ': ['High', 'College', 'High', 'College', np.nan, 'High', 'College', 'High', 'College', 'High'],\n",
        "        'first_exam': [85, 90, 78, 92, np.nan, 70, 88, 75, 95, 80],\n",
        "        'second_exam': [70, 80, 75, 85, 90, 92, 78, 88, 93, 82]}\n",
        "survey = pd.DataFrame(data)\n",
        "\n",
        "non_missing = survey.notna()\n",
        "print(non_missing)"
      ],
      "metadata": {
        "colab": {
          "base_uri": "https://localhost:8080/"
        },
        "id": "JHJ_8niG7jF6",
        "outputId": "a2e96e9a-abd2-40b9-fad2-81f7e9d2d80d"
      },
      "execution_count": 5,
      "outputs": [
        {
          "output_type": "stream",
          "name": "stdout",
          "text": [
            "   student_id  gender  school  parental_educ  first_exam  second_exam\n",
            "0        True    True    True           True        True         True\n",
            "1        True    True    True           True        True         True\n",
            "2        True    True    True           True        True         True\n",
            "3        True    True    True           True        True         True\n",
            "4        True    True    True          False       False         True\n",
            "5        True    True    True           True        True         True\n",
            "6        True   False    True           True        True         True\n",
            "7        True    True   False           True        True         True\n",
            "8        True    True    True           True        True         True\n",
            "9        True    True    True           True        True         True\n"
          ]
        }
      ]
    },
    {
      "cell_type": "code",
      "source": [
        "# nunique\n",
        "data = {'Column A': [1, 2, 3, 1, 4, 2],\n",
        "        'Column B': ['A', 'B', 'C', 'A', 'D', 'B']}\n",
        "df = pd.DataFrame(data)\n",
        "\n",
        "unique_count = df['Column A'].nunique()\n",
        "print(unique_count)"
      ],
      "metadata": {
        "colab": {
          "base_uri": "https://localhost:8080/"
        },
        "id": "kMPBbhCD9H1P",
        "outputId": "ba9648af-21ec-4bec-8409-27b9f9a344e9"
      },
      "execution_count": 7,
      "outputs": [
        {
          "output_type": "stream",
          "name": "stdout",
          "text": [
            "4\n"
          ]
        }
      ]
    },
    {
      "cell_type": "code",
      "source": [
        "# isin\n",
        "data = {'school': ['Public', 'Private', 'Other', 'Public', 'Private', 'Vocational', 'Public']}\n",
        "df = pd.DataFrame(data)\n",
        "\n",
        "print(df['school'].isin(['Public', 'Private']))"
      ],
      "metadata": {
        "colab": {
          "base_uri": "https://localhost:8080/"
        },
        "id": "-YSB1SUb9RZS",
        "outputId": "a00ce313-0101-4b5f-826a-d5104abbcd01"
      },
      "execution_count": 8,
      "outputs": [
        {
          "output_type": "stream",
          "name": "stdout",
          "text": [
            "0     True\n",
            "1     True\n",
            "2    False\n",
            "3     True\n",
            "4     True\n",
            "5    False\n",
            "6     True\n",
            "Name: school, dtype: bool\n"
          ]
        }
      ]
    },
    {
      "cell_type": "code",
      "source": [
        "# isna\n",
        "data = {'student_id': [1, 2, 3, 4, 5, 6, 7, 8, 9, 10],\n",
        "        'gender': ['M', 'F', 'M', 'F', 'M', 'M', np.nan, 'F', 'M', 'F'],\n",
        "        'school': ['A', 'B', 'A', 'B', 'A', 'A', 'B', np.nan, 'A', 'B'],\n",
        "        'parental_educ': ['High', 'College', 'High', 'College', np.nan, 'High', 'College', 'High', 'College', 'High'],\n",
        "        'first_exam': [85, 90, 78, 92, np.nan, 70, 88, 75, 95, 80],\n",
        "        'second_exam': [70, 80, 75, 85, 90, 92, 78, 88, 93, 82]}\n",
        "survey = pd.DataFrame(data)\n",
        "\n",
        "missing_values = survey.isna() # or survey.isnull()\n",
        "print(missing_values)"
      ],
      "metadata": {
        "colab": {
          "base_uri": "https://localhost:8080/"
        },
        "id": "VQANWRR39cVO",
        "outputId": "1dda1d59-f77a-4c81-ef71-f22f8ac97a8d"
      },
      "execution_count": 9,
      "outputs": [
        {
          "output_type": "stream",
          "name": "stdout",
          "text": [
            "   student_id  gender  school  parental_educ  first_exam  second_exam\n",
            "0       False   False   False          False       False        False\n",
            "1       False   False   False          False       False        False\n",
            "2       False   False   False          False       False        False\n",
            "3       False   False   False          False       False        False\n",
            "4       False   False   False           True        True        False\n",
            "5       False   False   False          False       False        False\n",
            "6       False    True   False          False       False        False\n",
            "7       False   False    True          False       False        False\n",
            "8       False   False   False          False       False        False\n",
            "9       False   False   False          False       False        False\n"
          ]
        }
      ]
    },
    {
      "cell_type": "code",
      "source": [
        "# duplicated()\n",
        "data = {'col1': [1, 2, 3, 1, 4],\n",
        "        'col2': ['A', 'B', 'C', 'A', 'D']}\n",
        "df = pd.DataFrame(data)\n",
        "# print(df)\n",
        "\n",
        "number_of_duplicate_rows = df.duplicated().sum()\n",
        "print(number_of_duplicate_rows)"
      ],
      "metadata": {
        "colab": {
          "base_uri": "https://localhost:8080/"
        },
        "id": "4yOh-KHF9naj",
        "outputId": "8e8538d9-6c95-4314-c1cc-423e8fc16df2"
      },
      "execution_count": 12,
      "outputs": [
        {
          "output_type": "stream",
          "name": "stdout",
          "text": [
            "1\n"
          ]
        }
      ]
    },
    {
      "cell_type": "code",
      "source": [
        "# heatmap\n",
        "data = {'A': [1, 2, 3, 4],\n",
        "        'B': [35, 75, 57, 8],\n",
        "        'C': [57, 89, 33, 93],\n",
        "        'D': [75, 27, 43, 56]}\n",
        "df = pd.DataFrame(data)\n",
        "\n",
        "min_val = df.min().min() # finds the min\n",
        "max_val = df.max().max() # finds the max\n",
        "\n",
        "sns.heatmap(data=df, vmin=min_val, vmax=max_val)\n",
        "plt.show()"
      ],
      "metadata": {
        "colab": {
          "base_uri": "https://localhost:8080/",
          "height": 430
        },
        "id": "e41-dzf59z_A",
        "outputId": "fe7d6497-ea83-4d7b-e427-36ff803db939"
      },
      "execution_count": 13,
      "outputs": [
        {
          "output_type": "display_data",
          "data": {
            "text/plain": [
              "<Figure size 640x480 with 2 Axes>"
            ],
            "image/png": "[encoded data removed]"
          },
          "metadata": {}
        }
      ]
    },
    {
      "cell_type": "code",
      "source": [
        "import math\n",
        "\n",
        "sdev1 = 10.5\n",
        "sample_variance = sdev1 ** 2  # Ou sdev1 * sdev1\n",
        "print(\"The sample variance is:\", sample_variance)"
      ],
      "metadata": {
        "colab": {
          "base_uri": "https://localhost:8080/"
        },
        "id": "QKgUSO-o-HHF",
        "outputId": "4003d54f-9f24-4675-db03-855940b556f1"
      },
      "execution_count": 15,
      "outputs": [
        {
          "output_type": "stream",
          "name": "stdout",
          "text": [
            "The sample variance is: 110.25\n"
          ]
        }
      ]
    },
    {
      "cell_type": "code",
      "source": [
        "# from scipy import stats\n",
        "\n",
        "# # create a NumPy array\n",
        "# arr = np.array([10, 20, 30, 20, 40, 30, 30, 20])\n",
        "\n",
        "# # calculate the most frequent value of the array\n",
        "# val = stats.mode(arr)[1][1]\n",
        "\n",
        "# print(val)"
      ],
      "metadata": {
        "id": "8AxjNTpr-NJO"
      },
      "execution_count": 18,
      "outputs": []
    },
    {
      "cell_type": "code",
      "source": [
        "import seaborn as sns\n",
        "import matplotlib.pyplot as plt\n",
        "\n",
        "np.random.seed(0)\n",
        "df = pd.DataFrame({\n",
        "    'score': np.random.randn(200),\n",
        "    'age_group': np.random.choice(['young adults', 'middle age adults', 'older adults'], size=200)\n",
        "})\n",
        "\n",
        "sns.histplot(data=df, x=\"score\", hue=\"age_group\", palette='pastel')\n",
        "plt.ylabel('Frequency')\n",
        "plt.show()"
      ],
      "metadata": {
        "colab": {
          "base_uri": "https://localhost:8080/",
          "height": 449
        },
        "id": "9hLHEHN7-XW-",
        "outputId": "db4f2841-671e-4567-be74-a2a4fb7d0585"
      },
      "execution_count": 19,
      "outputs": [
        {
          "output_type": "display_data",
          "data": {
            "text/plain": [
              "<Figure size 640x480 with 1 Axes>"
            ],
            "image/png": "[encoded data removed]"
          },
          "metadata": {}
        }
      ]
    },
    {
      "cell_type": "code",
      "source": [
        "data = {'test_scores': [80, 85, 90, 95],\n",
        "        'test_preparation_hours': [10, 25, 30, 30]}\n",
        "df = pd.DataFrame(data)\n",
        "\n",
        "# calculate the skewness of test_preparation_hours columns\n",
        "test_preparation_hours_skewness = df['test_preparation_hours'].skew()\n",
        "\n",
        "print(\"The skewness of the test preparation hours is:\", test_preparation_hours_skewness)"
      ],
      "metadata": {
        "colab": {
          "base_uri": "https://localhost:8080/"
        },
        "id": "5fZ214q1-oyP",
        "outputId": "cbbf0e5a-697b-4a2c-f64f-1367bbd4aa0a"
      },
      "execution_count": 20,
      "outputs": [
        {
          "output_type": "stream",
          "name": "stdout",
          "text": [
            "The skewness of the test preparation hours is: -1.658523800287803\n"
          ]
        }
      ]
    },
    {
      "cell_type": "code",
      "source": [
        "np.random.seed(42)\n",
        "df = pd.DataFrame({\n",
        "    'participant_id': range(1, 201),\n",
        "    'reaction_time': np.random.exponential(scale=1000, size=200).astype(int)\n",
        "})\n",
        "\n",
        "# plot variable\n",
        "sns.histplot(data=df['reaction_time'], kde=True)\n",
        "plt.xlabel('Reaction Time (ms)')\n",
        "\n",
        "# show the plot\n",
        "plt.show()"
      ],
      "metadata": {
        "colab": {
          "base_uri": "https://localhost:8080/",
          "height": 451
        },
        "id": "0VbO94RR-yDw",
        "outputId": "54984624-8df0-4b5d-aa40-b69442464191"
      },
      "execution_count": 21,
      "outputs": [
        {
          "output_type": "display_data",
          "data": {
            "text/plain": [
              "<Figure size 640x480 with 1 Axes>"
            ],
            "image/png": "[encoded data removed]"
          },
          "metadata": {}
        }
      ]
    },
    {
      "cell_type": "code",
      "source": [
        "data = {'Category': ['Electronics', 'Electronics', 'Electronics', 'Electronics', 'Electronics',\n",
        "                     'Home Appliances', 'Home Appliances', 'Home Appliances', 'Home Appliances'],\n",
        "        'Rating': [3, 5, 4, 4, 2, 4, 5, 3, 4]}\n",
        "df = pd.DataFrame(data)\n",
        "\n",
        "df.boxplot(by='Category', column='Rating', widths=0.5)\n",
        "plt.show()"
      ],
      "metadata": {
        "colab": {
          "base_uri": "https://localhost:8080/",
          "height": 478
        },
        "id": "6Yd1T9m2_GzR",
        "outputId": "85d5a476-51c9-4797-d5c9-9f9a5e0061e9"
      },
      "execution_count": 22,
      "outputs": [
        {
          "output_type": "display_data",
          "data": {
            "text/plain": [
              "<Figure size 640x480 with 1 Axes>"
            ],
            "image/png": "[encoded data removed]"
          },
          "metadata": {}
        }
      ]
    },
    {
      "cell_type": "code",
      "source": [
        "import pandas as pd\n",
        "import seaborn as sns\n",
        "import matplotlib.pyplot as plt\n",
        "\n",
        "data = {\n",
        "    'Confidence': [8.2, 3.4, 6.1, 8.9],\n",
        "    'Compassion': [5.6, 7.9, 6.2, 3.5],\n",
        "    'Impulsiveness': [3.1, 4.6, 2.8, 9.3],\n",
        "    'Strategic Thinking': [6.7, 8.1, 7.2, 8.6],\n",
        "    'Anxiety': [6.4, 2.7, 5.3, 8.2]\n",
        "}\n",
        "df = pd.DataFrame(data)\n",
        "\n",
        "# get correlations\n",
        "corr_matrix = df.corr()\n",
        "\n",
        "# plot variables\n",
        "sns.heatmap(corr_matrix)\n",
        "\n",
        "# show the plot\n",
        "plt.show()"
      ],
      "metadata": {
        "colab": {
          "base_uri": "https://localhost:8080/",
          "height": 548
        },
        "id": "Ghcp5rmj_fcr",
        "outputId": "6552ba58-90ae-420e-d71e-3d351bcebde4"
      },
      "execution_count": 23,
      "outputs": [
        {
          "output_type": "display_data",
          "data": {
            "text/plain": [
              "<Figure size 640x480 with 2 Axes>"
            ],
            "image/png": "[encoded data removed]"
          },
          "metadata": {}
        }
      ]
    },
    {
      "cell_type": "code",
      "source": [
        "import numpy as np\n",
        "from scipy.stats import skew # Importa a função skew\n",
        "\n",
        "# array\n",
        "arr = np.array([1, 2, 3, 4, 5, 6, 7, 8, 9])\n",
        "\n",
        "# calculate skewness of the array\n",
        "arr_skewness = skew(arr) # Usa a função skew importada\n",
        "\n",
        "print(\"The skewness of the array is:\", arr_skewness)"
      ],
      "metadata": {
        "colab": {
          "base_uri": "https://localhost:8080/"
        },
        "id": "4tU4MlzA_s_o",
        "outputId": "3edd8a3d-46e2-4f64-8ef7-91666c1bff0a"
      },
      "execution_count": 24,
      "outputs": [
        {
          "output_type": "stream",
          "name": "stdout",
          "text": [
            "The skewness of the array is: 0.0\n"
          ]
        }
      ]
    },
    {
      "cell_type": "code",
      "source": [
        "data = {\n",
        "    'store': ['A', 'B', 'A', 'B', 'A', 'B', 'A', 'B'],\n",
        "    'product': ['x', 'x', 'y', 'y', 'z', 'z', 'x', 'y'],\n",
        "    'price': [10, 12, 15, 14, 8, 9, 11, 13]\n",
        "}\n",
        "df = pd.DataFrame(data)\n",
        "\n",
        "pivot = df.pivot_table(values='price', index='store', columns='product', aggfunc='mean')\n",
        "print(pivot)"
      ],
      "metadata": {
        "colab": {
          "base_uri": "https://localhost:8080/"
        },
        "id": "TRRh13aj_y8w",
        "outputId": "cfea1b8c-0da0-4d48-8392-11c896288265"
      },
      "execution_count": 25,
      "outputs": [
        {
          "output_type": "stream",
          "name": "stdout",
          "text": [
            "product     x     y    z\n",
            "store                   \n",
            "A        10.5  15.0  8.0\n",
            "B        12.0  13.5  9.0\n"
          ]
        }
      ]
    },
    {
      "cell_type": "markdown",
      "source": [
        "### Model Development for AI\n",
        "- scikit learn\n",
        "- PyTorch"
      ],
      "metadata": {
        "id": "kMziznxy7Cbm"
      }
    },
    {
      "cell_type": "code",
      "source": [
        "# SDG optimize\n",
        "# CrossEntropyLoss\n",
        "\n",
        "import torch\n",
        "import torch.nn as nn\n",
        "import torch.optim as optim\n",
        "\n",
        "# dummy model class\n",
        "class DummyDataset(torch.utils.data.Dataset):\n",
        "    def __init__(self, num_samples=100):\n",
        "        self.data = torch.randn(num_samples, 4) # input features\n",
        "        self.labels = torch.randint(0, 3, (num_samples,)) # 3 classes\n",
        "\n",
        "    def __len__(self):\n",
        "        return len(self.data)\n",
        "\n",
        "    def __getitem__(self, idx):\n",
        "        return self.data[idx], self.labels[idx]\n",
        "\n",
        "model = nn.Sequential(\n",
        "    nn.Linear(4, 10),\n",
        "    nn.ReLU(),\n",
        "    nn.Linear(10, 3)\n",
        ")\n",
        "\n",
        "dummy_dataset = DummyDataset()\n",
        "train_loader = torch.utils.data.DataLoader(dummy_dataset, batch_size=10, shuffle=True)\n",
        "\n",
        "criterion = nn.CrossEntropyLoss()\n",
        "optimizer = optim.SGD(model.parameters(), lr=0.01)\n",
        "training_losses = []\n",
        "num_epochs = 5\n",
        "for epoch in range(num_epochs):\n",
        "    running_loss = 0.0\n",
        "    for images, labels in train_loader:\n",
        "        outputs = model(images)\n",
        "        loss = criterion(outputs, labels)\n",
        "        optimizer.zero_grad()\n",
        "        loss.backward()\n",
        "        optimizer.step()\n",
        "        running_loss += loss.item()\n",
        "    average_loss = running_loss / len(train_loader)\n",
        "    training_losses.append(average_loss)\n",
        "print(training_losses)"
      ],
      "metadata": {
        "colab": {
          "base_uri": "https://localhost:8080/"
        },
        "id": "T3DEfPPf_7Gr",
        "outputId": "b141b74a-d34c-463b-a944-9a7414512582"
      },
      "execution_count": 26,
      "outputs": [
        {
          "output_type": "stream",
          "name": "stdout",
          "text": [
            "[1.0865477561950683, 1.084289836883545, 1.0818488836288451, 1.0796376168727875, 1.0775334596633912]\n"
          ]
        }
      ]
    },
    {
      "cell_type": "code",
      "source": [
        "import torch\n",
        "import torch.nn as nn\n",
        "import torch.optim as optim\n",
        "\n",
        "# dummy model\n",
        "model = nn.Sequential(\n",
        "    nn.Linear(10, 5),\n",
        "    nn.ReLU()\n",
        ")\n",
        "\n",
        "learning_rate = 0.001\n",
        "beta1 = 0.9\n",
        "beta2 = 0.999\n",
        "optimizer = optim.Adam(model.parameters(), lr=learning_rate, betas=(beta1, beta2))\n",
        "\n",
        "# verify optimizer\n",
        "print(f\"Optimizer: {type(optimizer).__name__}\")"
      ],
      "metadata": {
        "colab": {
          "base_uri": "https://localhost:8080/"
        },
        "id": "mn_5u_KYATIp",
        "outputId": "7004b0f3-ea65-401e-d4cc-4562449943b0"
      },
      "execution_count": 27,
      "outputs": [
        {
          "output_type": "stream",
          "name": "stdout",
          "text": [
            "Optimizer: Adam\n"
          ]
        }
      ]
    },
    {
      "cell_type": "code",
      "source": [
        "from sklearn.model_selection import train_test_split\n",
        "\n",
        "# create dummy data for X and Y for runtime and demonstration purposes\n",
        "# creating an imbalanced dataset\n",
        "np.random.seed(0)\n",
        "X = np.random.rand(200, 10) # 200 samples, 10 features\n",
        "Y = np.concatenate((np.zeros(150), np.ones(50))).astype(int)\n",
        "np.random.shuffle(Y)\n",
        "\n",
        "# split the dataset into training and testing sets with stratification\n",
        "X_train, X_test, y_train, y_test = train_test_split(X, Y, test_size=0.25, random_state=42, stratify=Y)\n",
        "\n",
        "print(f'Class distribution in training set: {np.bincount(y_train.astype(int))}')\n",
        "print(f'Class distribution in testing set: {np.bincount(y_test.astype(int))}')"
      ],
      "metadata": {
        "colab": {
          "base_uri": "https://localhost:8080/"
        },
        "id": "LoOkwoWtAZZf",
        "outputId": "88236af1-4beb-48c3-c7fd-34e91114ef91"
      },
      "execution_count": 28,
      "outputs": [
        {
          "output_type": "stream",
          "name": "stdout",
          "text": [
            "Class distribution in training set: [112  38]\n",
            "Class distribution in testing set: [38 12]\n"
          ]
        }
      ]
    },
    {
      "cell_type": "code",
      "source": [
        "import torch.nn as nn\n",
        "\n",
        "# define a single neural network layer with specified input and output sizes.\n",
        "layer = nn.Linear(in_features=10, out_features=5)\n",
        "print(layer)"
      ],
      "metadata": {
        "colab": {
          "base_uri": "https://localhost:8080/"
        },
        "id": "SsswsnVKAp5_",
        "outputId": "327ad96e-c1ee-4753-c20e-8ea620861248"
      },
      "execution_count": 29,
      "outputs": [
        {
          "output_type": "stream",
          "name": "stdout",
          "text": [
            "Linear(in_features=10, out_features=5, bias=True)\n"
          ]
        }
      ]
    },
    {
      "cell_type": "code",
      "source": [
        "from sklearn.pipeline import Pipeline\n",
        "from sklearn.preprocessing import StandardScaler\n",
        "from sklearn.svm import SVC\n",
        "from sklearn.model_selection import GridSearchCV\n",
        "\n",
        "np.random.seed(0)\n",
        "X = np.random.rand(100, 5) # 100 amostras, 5 features\n",
        "Y = np.random.randint(0, 2, 100) # 100 rótulos de classe 0 ou 1\n",
        "\n",
        "pipeline = Pipeline([\n",
        "    ('scaler', StandardScaler()),\n",
        "    ('svc', SVC())\n",
        "])\n",
        "\n",
        "param_grid = {\n",
        "    'scaler__with_mean': [True, False],\n",
        "    'svc__kernel': ['linear', 'rbf'],\n",
        "    'svc__C': [1, 10]\n",
        "}\n",
        "\n",
        "grid_search = GridSearchCV(pipeline, param_grid=param_grid, cv=3)\n",
        "grid_search.fit(X, Y)\n",
        "\n",
        "print(\"Best parameters found:\")\n",
        "print(grid_search.best_params_)"
      ],
      "metadata": {
        "colab": {
          "base_uri": "https://localhost:8080/"
        },
        "id": "0y1Ri8ZXAtbf",
        "outputId": "14c8c575-cfa4-4649-f4d2-6ee16dea6f2c"
      },
      "execution_count": 30,
      "outputs": [
        {
          "output_type": "stream",
          "name": "stdout",
          "text": [
            "Best parameters found:\n",
            "{'scaler__with_mean': True, 'svc__C': 1, 'svc__kernel': 'rbf'}\n"
          ]
        }
      ]
    },
    {
      "cell_type": "code",
      "source": [
        "import torch\n",
        "from sklearn.model_selection import train_test_split\n",
        "\n",
        "# iris data dummy\n",
        "data = {\n",
        "    'feature1': np.random.rand(150),\n",
        "    'feature2': np.random.rand(150),\n",
        "    'feature3': np.random.rand(150),\n",
        "    'feature4': np.random.rand(150),\n",
        "    'label': np.repeat([0, 1, 2], 50) # 50 de cada classe para simular o iris\n",
        "}\n",
        "iris_data = pd.DataFrame(data)\n",
        "iris_data = iris_data.sample(frac=1, random_state=42).reset_index(drop=True)\n",
        "\n",
        "\n",
        "X = iris_data.iloc[:, :-1].values\n",
        "y = iris_data.iloc[:, -1].values\n",
        "\n",
        "X_train, X_test, y_train, y_test = train_test_split(X, y, test_size=0.3, random_state=22, stratify=y)\n",
        "\n",
        "print(X_train)\n",
        "print(X_test)\n",
        "print(y_train)\n",
        "print(y_test)"
      ],
      "metadata": {
        "colab": {
          "base_uri": "https://localhost:8080/"
        },
        "id": "_7ybbsRRA0HU",
        "outputId": "757d5558-8b1d-4b53-cc34-9a89188f0352"
      },
      "execution_count": 31,
      "outputs": [
        {
          "output_type": "stream",
          "name": "stdout",
          "text": [
            "[[0.39966001 0.55460339 0.59085755 0.89377276]\n",
            " [0.6191828  0.00746832 0.31891733 0.26628399]\n",
            " [0.02494472 0.88520727 0.17863564 0.78866096]\n",
            " [0.04297641 0.42184452 0.76074357 0.49011026]\n",
            " [0.18906266 0.93150503 0.39243057 0.70427129]\n",
            " [0.43415558 0.09749338 0.963741   0.92119221]\n",
            " [0.54212945 0.71292685 0.58559338 0.04679179]\n",
            " [0.00120757 0.82479771 0.06099501 0.78695414]\n",
            " [0.33563098 0.25402523 0.5208748  0.07275408]\n",
            " [0.35450605 0.57184364 0.38644741 0.55005451]\n",
            " [0.59278027 0.66771489 0.08738269 0.52641254]\n",
            " [0.43260636 0.97854755 0.72499409 0.48137523]\n",
            " [0.30925129 0.72218402 0.194901   0.45239897]\n",
            " [0.43178493 0.36446268 0.49735684 0.68541493]\n",
            " [0.56278312 0.87110253 0.20407206 0.93107659]\n",
            " [0.40276676 0.89534511 0.988749   0.65122756]\n",
            " [0.72052752 0.35720742 0.89795594 0.76963376]\n",
            " [0.56157728 0.85446003 0.71199058 0.16431932]\n",
            " [0.32056533 0.17009964 0.08507608 0.26678816]\n",
            " [0.65230895 0.90010213 0.57821035 0.06077816]\n",
            " [0.28115297 0.72724991 0.00968332 0.69594686]\n",
            " [0.23804352 0.57968089 0.97817217 0.12869661]\n",
            " [0.00893127 0.22446694 0.79450646 0.11781974]\n",
            " [0.50839039 0.65408193 0.60407755 0.45841243]\n",
            " [0.9364681  0.40692193 0.16453272 0.25162676]\n",
            " [0.99207384 0.89648    0.1181267  0.16628957]\n",
            " [0.23526284 0.08137172 0.13481865 0.71603265]\n",
            " [0.47319005 0.45557856 0.6649647  0.96916775]\n",
            " [0.12384442 0.61132742 0.49120104 0.97815374]\n",
            " [0.63306201 0.42594595 0.93692788 0.92947519]\n",
            " [0.87849262 0.51405447 0.66923696 0.28830055]\n",
            " [0.20036432 0.41560826 0.26461953 0.41375843]\n",
            " [0.53727903 0.15665349 0.93083945 0.64473434]\n",
            " [0.83331581 0.1572221  0.79046229 0.36849096]\n",
            " [0.7706745  0.70295171 0.58796713 0.70970054]\n",
            " [0.71392719 0.66331792 0.13635701 0.41243355]\n",
            " [0.92821871 0.57521247 0.16448841 0.0917281 ]\n",
            " [0.00309954 0.68636205 0.45272886 0.19952953]\n",
            " [0.36130568 0.13190325 0.24209971 0.25121196]\n",
            " [0.85675525 0.36762617 0.07235037 0.33145192]\n",
            " [0.13725135 0.30082393 0.33975638 0.4983881 ]\n",
            " [0.30737612 0.87230251 0.36624432 0.15939371]\n",
            " [0.59621112 0.28408614 0.34769799 0.97301663]\n",
            " [0.26062867 0.07896991 0.72748074 0.24362352]\n",
            " [0.02963482 0.51713728 0.43482664 0.44838567]\n",
            " [0.03756505 0.06508248 0.57403184 0.64090733]\n",
            " [0.2115339  0.61098651 0.97751782 0.31789787]\n",
            " [0.38139715 0.67805941 0.90258021 0.30717295]\n",
            " [0.94078166 0.87775079 0.51290532 0.15788387]\n",
            " [0.44814283 0.23107005 0.55977423 0.91007262]\n",
            " [0.52300639 0.57901121 0.17219571 0.30018946]\n",
            " [0.91099399 0.20051601 0.68455274 0.45022447]\n",
            " [0.93763523 0.5388685  0.56466654 0.02798199]\n",
            " [0.78093113 0.77226558 0.73106521 0.10000268]\n",
            " [0.6253582  0.26433276 0.36704624 0.20109602]\n",
            " [0.6216929  0.89727707 0.10625491 0.03235623]\n",
            " [0.37935608 0.33219089 0.47694589 0.69855741]\n",
            " [0.62552797 0.55107915 0.37599427 0.6444791 ]\n",
            " [0.03965046 0.45688465 0.78473057 0.20868333]\n",
            " [0.51375973 0.510128   0.24437607 0.88736306]\n",
            " [0.3552252  0.57507781 0.04071026 0.2404904 ]\n",
            " [0.28711926 0.07041083 0.63785575 0.23138178]\n",
            " [0.40321803 0.03290133 0.74123167 0.20063767]\n",
            " [0.08205775 0.53546826 0.74123807 0.73047805]\n",
            " [0.98463162 0.68547738 0.94494919 0.0302082 ]\n",
            " [0.82171856 0.40430653 0.30638265 0.90482671]\n",
            " [0.66567773 0.08006109 0.62937671 0.23679004]\n",
            " [0.58340419 0.03656099 0.99300131 0.92483982]\n",
            " [0.31621999 0.71437574 0.82884091 0.27542526]\n",
            " [0.47466799 0.39554383 0.99743613 0.87985669]\n",
            " [0.08523306 0.05732062 0.36093447 0.25676782]\n",
            " [0.05510728 0.239337   0.53981338 0.89819226]\n",
            " [0.88928732 0.75510618 0.41380102 0.40314718]\n",
            " [0.2931444  0.41527995 0.46334402 0.91165676]\n",
            " [0.53086013 0.02575646 0.7000445  0.57506171]\n",
            " [0.59793673 0.91809195 0.29826442 0.23238315]\n",
            " [0.02168872 0.97498981 0.64442028 0.41205244]\n",
            " [0.98493331 0.70514754 0.70092806 0.87683957]\n",
            " [0.89131435 0.45668759 0.03205562 0.94314244]\n",
            " [0.58010691 0.19271798 0.2664079  0.87628489]\n",
            " [0.22265793 0.12768864 0.12428889 0.00531504]\n",
            " [0.00518963 0.32837895 0.31148607 0.33060053]\n",
            " [0.32408269 0.60222918 0.07556656 0.82375316]\n",
            " [0.27457505 0.68412573 0.54577934 0.33283099]\n",
            " [0.12091936 0.42694341 0.25362571 0.99802549]\n",
            " [0.02197364 0.14469114 0.33401795 0.98477247]\n",
            " [0.89180097 0.93530189 0.24263733 0.06203582]\n",
            " [0.56406436 0.72143011 0.61443806 0.12672767]\n",
            " [0.59730294 0.9768018  0.93266553 0.49263243]\n",
            " [0.18755194 0.74683637 0.32529681 0.4527305 ]\n",
            " [0.3824401  0.92740255 0.97458866 0.80741853]\n",
            " [0.24653479 0.09561988 0.80959338 0.13394889]\n",
            " [0.09023298 0.02475308 0.70606101 0.35631498]\n",
            " [0.91119716 0.63087107 0.86825498 0.11893227]\n",
            " [0.27111339 0.53723565 0.20729598 0.88381864]\n",
            " [0.66160729 0.06443545 0.44412141 0.24527794]\n",
            " [0.87108257 0.72687797 0.58459258 0.99791752]\n",
            " [0.11609834 0.3883196  0.35911065 0.74410123]\n",
            " [0.84834015 0.42181922 0.47970715 0.2205283 ]\n",
            " [0.54464736 0.88495189 0.69374571 0.79498779]\n",
            " [0.95693298 0.48289162 0.73163371 0.39798816]\n",
            " [0.43327873 0.78208938 0.25146379 0.88377944]\n",
            " [0.71520783 0.60898861 0.49691475 0.32611769]\n",
            " [0.76499445 0.00267707 0.50374782 0.52595094]\n",
            " [0.05887028 0.32201734 0.96508938 0.05637216]]\n",
            "[[0.59208066 0.64367809 0.74822397 0.22927609]\n",
            " [0.39966737 0.72622718 0.28011375 0.20606354]\n",
            " [0.5176121  0.8518537  0.87860037 0.45020916]\n",
            " [0.68069724 0.30169247 0.20101029 0.78411435]\n",
            " [0.77580322 0.34213751 0.51499291 0.76143669]\n",
            " [0.09656288 0.6931528  0.89158049 0.16355879]\n",
            " [0.27222936 0.20556632 0.96397573 0.56294744]\n",
            " [0.58088727 0.45589844 0.04601358 0.35032519]\n",
            " [0.63341482 0.97291174 0.92027175 0.36348176]\n",
            " [0.1843626  0.23307782 0.362888   0.04401636]\n",
            " [0.1442861  0.84485358 0.11586145 0.98775839]\n",
            " [0.31648792 0.35020726 0.58737531 0.22885739]\n",
            " [0.14587015 0.64235175 0.18975362 0.25269993]\n",
            " [0.32511791 0.24704521 0.93229531 0.39296677]\n",
            " [0.92570215 0.93661711 0.57553389 0.67704454]\n",
            " [0.67204106 0.77303498 0.05117044 0.18544797]\n",
            " [0.45825901 0.23317375 0.85411489 0.64113293]\n",
            " [0.9702218  0.80269214 0.8886155  0.06620717]\n",
            " [0.90635423 0.66759331 0.79639677 0.67076166]\n",
            " [0.3747527  0.16804252 0.9700781  0.66857716]\n",
            " [0.66386607 0.83636403 0.69727429 0.01386505]\n",
            " [0.48370646 0.08506681 0.49159143 0.37535043]\n",
            " [0.93721883 0.66860585 0.84931916 0.49654813]\n",
            " [0.09995852 0.66823397 0.11804156 0.89551293]\n",
            " [0.89065281 0.09389447 0.65926787 0.12266198]\n",
            " [0.05250817 0.43199378 0.86347622 0.78686003]\n",
            " [0.79631941 0.58881171 0.2304117  0.18147632]\n",
            " [0.10642941 0.16039354 0.70889756 0.83980652]\n",
            " [0.96725931 0.37303978 0.49561678 0.48503053]\n",
            " [0.89658126 0.59606499 0.44077719 0.77371041]\n",
            " [0.17941007 0.97542413 0.75665372 0.67111557]\n",
            " [0.00868992 0.03407077 0.5740919  0.9322492 ]\n",
            " [0.89875959 0.67383734 0.39193287 0.95555055]\n",
            " [0.91399122 0.34835675 0.78976961 0.07489517]\n",
            " [0.26669688 0.74658429 0.10407877 0.89591119]\n",
            " [0.47975387 0.60019321 0.75389007 0.57344394]\n",
            " [0.95830736 0.5459176  0.69552554 0.32690273]\n",
            " [0.65701977 0.77468348 0.72944811 0.83223886]\n",
            " [0.36948969 0.62147304 0.22329167 0.06033534]\n",
            " [0.11348592 0.19402282 0.24403243 0.7600492 ]\n",
            " [0.6717943  0.08824824 0.46711941 0.36321398]\n",
            " [0.76527058 0.43781425 0.23801128 0.1928461 ]\n",
            " [0.64907833 0.60859331 0.76316501 0.34513777]\n",
            " [0.68211896 0.03227329 0.41503262 0.06888045]\n",
            " [0.43476064 0.58543207 0.04523449 0.53580192]]\n",
            "[2 1 2 0 1 0 0 2 0 1 1 0 0 0 0 1 2 2 0 1 2 0 1 1 1 2 2 1 2 0 0 0 2 2 2 2 0\n",
            " 0 0 2 1 2 1 1 2 1 1 2 1 1 0 0 1 1 2 0 0 0 1 2 2 0 0 1 1 1 2 1 2 0 2 2 2 0\n",
            " 2 0 1 1 2 0 2 0 2 2 0 2 1 1 0 0 1 0 1 2 1 2 1 0 2 0 1 1 0 1 2]\n",
            "[0 2 0 0 2 1 1 0 2 0 2 0 0 1 0 1 2 0 0 2 0 2 2 1 0 1 2 0 1 1 1 2 1 2 1 1 2\n",
            " 1 2 1 2 1 0 2 0]\n"
          ]
        }
      ]
    },
    {
      "cell_type": "code",
      "source": [
        "from sklearn.pipeline import Pipeline\n",
        "from sklearn.preprocessing import StandardScaler, OneHotEncoder\n",
        "from sklearn.compose import ColumnTransformer\n",
        "from sklearn.tree import DecisionTreeClassifier\n",
        "from sklearn.model_selection import GridSearchCV\n",
        "\n",
        "# dummy data\n",
        "np.random.seed(0)\n",
        "data = {\n",
        "    'numeric_col1': np.random.rand(100) * 100,\n",
        "    'numeric_col2': np.random.rand(100) * 50,\n",
        "    'categorical_col1': np.random.choice(['A', 'B', 'C'], 100),\n",
        "    'categorical_col2': np.random.choice(['X', 'Y'], 100),\n",
        "    'target': np.random.randint(0, 2, 100)\n",
        "}\n",
        "df_dummy = pd.DataFrame(data)\n",
        "\n",
        "X = df_dummy[['numeric_col1', 'numeric_col2', 'categorical_col1', 'categorical_col2']]\n",
        "y = df_dummy['target']\n",
        "\n",
        "numeric_features = ['numeric_col1', 'numeric_col2']\n",
        "categorical_features = ['categorical_col1', 'categorical_col2']\n",
        "\n",
        "\n",
        "# Preprocessing pipelines\n",
        "numeric_transformer = Pipeline(steps=[\n",
        "    ('scaler', StandardScaler())\n",
        "])\n",
        "\n",
        "categorical_transformer = Pipeline(steps=[\n",
        "    ('onehot', OneHotEncoder(handle_unknown='ignore'))\n",
        "])\n",
        "\n",
        "preprocessor = ColumnTransformer(transformers=[\n",
        "    ('num', numeric_transformer, numeric_features),\n",
        "    ('cat', categorical_transformer, categorical_features)\n",
        "])\n",
        "\n",
        "# Complete pipeline\n",
        "pipeline = Pipeline(steps=[\n",
        "    ('preprocessor', preprocessor),\n",
        "    ('classifier', DecisionTreeClassifier())\n",
        "])\n",
        "\n",
        "param_grid = {\n",
        "    'preprocessor__num__scaler__with_mean': [True, False],\n",
        "    'classifier__max_depth': [None, 5, 10]\n",
        "}\n",
        "\n",
        "grid_search = GridSearchCV(pipeline, param_grid=param_grid, cv=3)\n",
        "grid_search.fit(X, y)\n",
        "\n",
        "print(\"Best parameters found:\")\n",
        "print(grid_search.best_params_)"
      ],
      "metadata": {
        "colab": {
          "base_uri": "https://localhost:8080/"
        },
        "id": "4tLGKufkA_fU",
        "outputId": "0723b5b3-6e95-441f-f02e-a23d175e2bd1"
      },
      "execution_count": 32,
      "outputs": [
        {
          "output_type": "stream",
          "name": "stdout",
          "text": [
            "Best parameters found:\n",
            "{'classifier__max_depth': None, 'preprocessor__num__scaler__with_mean': True}\n"
          ]
        }
      ]
    },
    {
      "cell_type": "code",
      "source": [
        "from sklearn.model_selection import KFold\n",
        "import numpy as np\n",
        "\n",
        "X = np.array([[1, 2], [3, 4], [5, 6], [7, 8], [9, 10], [11, 12]])\n",
        "y = np.array([0, 1, 0, 1, 0, 1])\n",
        "\n",
        "kf = KFold(n_splits=3)\n",
        "print(kf)"
      ],
      "metadata": {
        "colab": {
          "base_uri": "https://localhost:8080/"
        },
        "id": "ncg52nc2BLnL",
        "outputId": "e0dc1089-620e-47d0-b9ff-2b978a803265"
      },
      "execution_count": 33,
      "outputs": [
        {
          "output_type": "stream",
          "name": "stdout",
          "text": [
            "KFold(n_splits=3, random_state=None, shuffle=False)\n"
          ]
        }
      ]
    },
    {
      "cell_type": "code",
      "source": [
        "import numpy as np\n",
        "from sklearn.preprocessing import MinMaxScaler\n",
        "\n",
        "# dummy data\n",
        "X = np.array([[1., -1.,  2.],\n",
        "              [2.,  0.,  0.],\n",
        "              [0.,  1., -1.]])\n",
        "\n",
        "\n",
        "scaler = MinMaxScaler()\n",
        "X_scaled = scaler.fit_transform(X)\n",
        "\n",
        "print(\"Scaled data:\", X_scaled)\n",
        "print(\"Min:\", X_scaled.min(axis=0))\n",
        "print(\"Max:\", X_scaled.max(axis=0))"
      ],
      "metadata": {
        "colab": {
          "base_uri": "https://localhost:8080/"
        },
        "id": "cNf8-VG1BRx7",
        "outputId": "ef0adaf1-f847-44cf-aa18-5d7cd1ee6e82"
      },
      "execution_count": 34,
      "outputs": [
        {
          "output_type": "stream",
          "name": "stdout",
          "text": [
            "Scaled data: [[0.5        0.         1.        ]\n",
            " [1.         0.5        0.33333333]\n",
            " [0.         1.         0.        ]]\n",
            "Min: [0. 0. 0.]\n",
            "Max: [1. 1. 1.]\n"
          ]
        }
      ]
    },
    {
      "cell_type": "code",
      "source": [
        "from sklearn.model_selection import cross_val_score\n",
        "from sklearn.linear_model import LogisticRegression\n",
        "\n",
        "# dummy data\n",
        "X = np.random.rand(100, 5) # 100 amostras, 5 features\n",
        "y = np.random.randint(0, 2, 100) # 100 rótulos de classe 0 ou 1\n",
        "\n",
        "model = LogisticRegression(max_iter=1000)\n",
        "scores = cross_val_score(model, X, y, cv=5, scoring='accuracy')\n",
        "print(\"Cross-validation scores:\", scores)\n",
        "print(\"Mean accuracy:\", scores.mean())"
      ],
      "metadata": {
        "colab": {
          "base_uri": "https://localhost:8080/"
        },
        "id": "pjA-SQoTBc5h",
        "outputId": "ffd8c28c-ba70-4454-9da2-329e25c98961"
      },
      "execution_count": 35,
      "outputs": [
        {
          "output_type": "stream",
          "name": "stdout",
          "text": [
            "Cross-validation scores: [0.55 0.5  0.5  0.6  0.55]\n",
            "Mean accuracy: 0.54\n"
          ]
        }
      ]
    },
    {
      "cell_type": "code",
      "source": [
        "from sklearn.model_selection import train_test_split\n",
        "from sklearn.tree import DecisionTreeClassifier\n",
        "from sklearn.metrics import confusion_matrix\n",
        "\n",
        "# dummy data\n",
        "np.random.seed(42)\n",
        "X = np.random.rand(150, 4)\n",
        "y = np.concatenate([np.zeros(50), np.ones(50), np.full(50, 2)]).astype(int)\n",
        "np.random.shuffle(y)\n",
        "\n",
        "# split data into training and testing sets\n",
        "X_train, X_test, y_train, y_test = train_test_split(X, y, test_size=0.2, random_state=42)\n",
        "\n",
        "# train the model\n",
        "model = DecisionTreeClassifier(random_state=42) # Adiciona random_state para reprodutibilidade\n",
        "model.fit(X_train, y_train)\n",
        "\n",
        "# make predictions and generate confusion matrix\n",
        "y_pred = model.predict(X_test)\n",
        "conf_matrix = confusion_matrix(y_test, y_pred)\n",
        "\n",
        "# output confusion matrix\n",
        "print(conf_matrix)"
      ],
      "metadata": {
        "colab": {
          "base_uri": "https://localhost:8080/"
        },
        "id": "aBNws8RUBmu6",
        "outputId": "84fac61e-8e74-48d9-9ec4-6b4cb3f7250d"
      },
      "execution_count": 36,
      "outputs": [
        {
          "output_type": "stream",
          "name": "stdout",
          "text": [
            "[[3 2 1]\n",
            " [3 6 2]\n",
            " [8 2 3]]\n"
          ]
        }
      ]
    },
    {
      "cell_type": "code",
      "source": [
        "# NumPy dummy arrays to predictions and targets\n",
        "predictions = np.array([0.1, 0.2, 0.3, 0.4])\n",
        "targets = np.array([0.2, 0.3, 0.3, 0.5])\n",
        "\n",
        "# convert predictions and targets to PyTorch tensors\n",
        "predictions_tensor = torch.from_numpy(predictions).float()\n",
        "targets_tensor = torch.from_numpy(targets).float()\n",
        "\n",
        "# define Mean Squared Error loss function\n",
        "criterion = nn.MSELoss()\n",
        "\n",
        "# compute the loss\n",
        "loss = criterion(predictions_tensor, targets_tensor)\n",
        "print(f'Loss: {loss.item()}')"
      ],
      "metadata": {
        "colab": {
          "base_uri": "https://localhost:8080/"
        },
        "id": "oiNPah94B_NY",
        "outputId": "52dabceb-f4e0-4420-b6cd-49ac56379f8f"
      },
      "execution_count": 37,
      "outputs": [
        {
          "output_type": "stream",
          "name": "stdout",
          "text": [
            "Loss: 0.007500000298023224\n"
          ]
        }
      ]
    },
    {
      "cell_type": "code",
      "source": [
        "# softmax\n",
        "\n",
        "layer = nn.Sequential(\n",
        "    nn.Linear(in_features=10, out_features=4),\n",
        "    nn.Softmax(dim=1)\n",
        ")\n",
        "print(layer)"
      ],
      "metadata": {
        "colab": {
          "base_uri": "https://localhost:8080/"
        },
        "id": "QIuua7FzC3Q1",
        "outputId": "a09670bc-6485-48da-ca75-fde24bb1552e"
      },
      "execution_count": 38,
      "outputs": [
        {
          "output_type": "stream",
          "name": "stdout",
          "text": [
            "Sequential(\n",
            "  (0): Linear(in_features=10, out_features=4, bias=True)\n",
            "  (1): Softmax(dim=1)\n",
            ")\n"
          ]
        }
      ]
    },
    {
      "cell_type": "code",
      "source": [
        "from sklearn.preprocessing import StandardScaler\n",
        "\n",
        "np.random.seed(42)\n",
        "data = {\n",
        "    'height_cm': np.random.normal(170, 10, 100),\n",
        "    'weight_kg': np.random.normal(70, 15, 100),\n",
        "    'age_years': np.random.normal(30, 5, 100)\n",
        "}\n",
        "df = pd.DataFrame(data)\n",
        "\n",
        "# select features to scale\n",
        "features = ['height_cm', 'weight_kg', 'age_years']\n",
        "X = df[features]\n",
        "\n",
        "# initialize the scaler\n",
        "scaler = StandardScaler()\n",
        "\n",
        "# fit the scaler to the data and transform it\n",
        "X_scaled = scaler.fit_transform(X)\n",
        "\n",
        "# convert the scaled data back into a DataFrame\n",
        "df_scaled = pd.DataFrame(X_scaled, columns=features)\n",
        "print(df_scaled.head())"
      ],
      "metadata": {
        "colab": {
          "base_uri": "https://localhost:8080/"
        },
        "id": "caWV3So8C-A3",
        "outputId": "aa0b5965-4216-418a-bed6-204d3e7dae37"
      },
      "execution_count": 39,
      "outputs": [
        {
          "output_type": "stream",
          "name": "stdout",
          "text": [
            "   height_cm  weight_kg  age_years\n",
            "0   0.664619  -1.515115   0.271485\n",
            "1  -0.038089  -0.466809   0.459646\n",
            "2   0.831697  -0.384681   0.943743\n",
            "3   1.800406  -0.868997   0.916631\n",
            "4  -0.144206  -0.193479  -1.337135\n"
          ]
        }
      ]
    },
    {
      "cell_type": "code",
      "source": [
        "from sklearn.datasets import load_iris\n",
        "from sklearn.model_selection import train_test_split\n",
        "from torch.utils.data import DataLoader, TensorDataset\n",
        "\n",
        "# 1. load data\n",
        "# load iris dataset\n",
        "iris = load_iris()\n",
        "X, y = iris.data, iris.target\n",
        "\n",
        "# tensors to pytorch\n",
        "X_tensor = torch.tensor(X, dtype=torch.float32)\n",
        "y_tensor = torch.tensor(y, dtype=torch.long) # CrossEntropyLoss espera labels como Long\n",
        "\n",
        "# train and test split\n",
        "X_train, X_val, y_train, y_val = train_test_split(X_tensor, y_tensor, test_size=0.2, random_state=42)\n",
        "\n",
        "val_dataset = TensorDataset(X_val, y_val)\n",
        "val_loader = DataLoader(val_dataset, batch_size=16)\n",
        "\n",
        "# 2. setup model\n",
        "# (4 input features, 3 output class)\n",
        "class SimpleIrisNet(nn.Module):\n",
        "    def __init__(self):\n",
        "        super(SimpleIrisNet, self).__init__()\n",
        "        self.fc1 = nn.Linear(4, 10)\n",
        "        self.relu = nn.ReLU()\n",
        "        self.fc2 = nn.Linear(10, 3)\n",
        "\n",
        "    def forward(self, x):\n",
        "        x = self.fc1(x)\n",
        "        x = self.relu(x)\n",
        "        x = self.fc2(x)\n",
        "        return x\n",
        "\n",
        "model = SimpleIrisNet()\n",
        "criterion = nn.CrossEntropyLoss()\n",
        "\n",
        "# loop training here (prod)\n",
        "optimizer = optim.SGD(model.parameters(), lr=0.01)\n",
        "train_dataset = TensorDataset(X_train, y_train)\n",
        "train_loader = DataLoader(train_dataset, batch_size=16, shuffle=True)\n",
        "\n",
        "for epoch in range(5):\n",
        "    for inputs, labels in train_loader:\n",
        "        optimizer.zero_grad()\n",
        "        outputs = model(inputs)\n",
        "        loss = criterion(outputs, labels)\n",
        "        loss.backward()\n",
        "        optimizer.step()\n",
        "\n",
        "# evaluate mode\n",
        "model.eval()\n",
        "validation_losses = []\n",
        "val_loss = 0.0\n",
        "with torch.no_grad():\n",
        "    for images, labels in val_loader:\n",
        "        outputs = model(images)\n",
        "        loss = criterion(outputs, labels)\n",
        "        val_loss += loss.item()\n",
        "validation_losses.append(val_loss / len(val_loader))\n",
        "print(\"Validation Loss:\", validation_losses)"
      ],
      "metadata": {
        "colab": {
          "base_uri": "https://localhost:8080/"
        },
        "id": "to9oetE5DJ8L",
        "outputId": "40252ef0-1bae-433b-8532-faf5e4f86d60"
      },
      "execution_count": 40,
      "outputs": [
        {
          "output_type": "stream",
          "name": "stdout",
          "text": [
            "Validation Loss: [1.0076082944869995]\n"
          ]
        }
      ]
    }
  ]
}